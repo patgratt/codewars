{
 "cells": [
  {
   "cell_type": "code",
   "execution_count": 1,
   "id": "ef70d33b",
   "metadata": {},
   "outputs": [],
   "source": [
    "ex_input = ['hello', 'world', 'this', 'is', 'great']"
   ]
  },
  {
   "cell_type": "code",
   "execution_count": 4,
   "id": "d73d195a",
   "metadata": {},
   "outputs": [
    {
     "name": "stdout",
     "output_type": "stream",
     "text": [
      "hello world this is great\n"
     ]
    }
   ],
   "source": [
    "# this * before list pretty much solves the entire problem\n",
    "\n",
    "print(*ex_input)"
   ]
  },
  {
   "cell_type": "code",
   "execution_count": 5,
   "id": "0bcb29e2",
   "metadata": {},
   "outputs": [],
   "source": [
    "def smash(ex_list):\n",
    "    return print(*ex_list)"
   ]
  },
  {
   "cell_type": "code",
   "execution_count": 6,
   "id": "1d6caf43",
   "metadata": {},
   "outputs": [
    {
     "name": "stdout",
     "output_type": "stream",
     "text": [
      "hello world this is great\n"
     ]
    }
   ],
   "source": [
    "smash(ex_input)"
   ]
  },
  {
   "cell_type": "code",
   "execution_count": 7,
   "id": "ad82d3ef",
   "metadata": {},
   "outputs": [
    {
     "name": "stdout",
     "output_type": "stream",
     "text": [
      "hello world this is great\n"
     ]
    },
    {
     "data": {
      "text/plain": [
       "NoneType"
      ]
     },
     "execution_count": 7,
     "metadata": {},
     "output_type": "execute_result"
    }
   ],
   "source": [
    "type(smash(ex_input))\n",
    "# oh small problem its a noneType and they probably want a string"
   ]
  },
  {
   "cell_type": "code",
   "execution_count": 17,
   "id": "e383a8a8",
   "metadata": {},
   "outputs": [],
   "source": [
    "def smash(ex_list):\n",
    "    return print(str(print(*ex_list)))"
   ]
  },
  {
   "cell_type": "code",
   "execution_count": 21,
   "id": "c2c8dd92",
   "metadata": {},
   "outputs": [
    {
     "name": "stdout",
     "output_type": "stream",
     "text": [
      "hello world this is great\n",
      "None\n"
     ]
    },
    {
     "data": {
      "text/plain": [
       "NoneType"
      ]
     },
     "execution_count": 21,
     "metadata": {},
     "output_type": "execute_result"
    }
   ],
   "source": [
    "type(smash(ex_input))\n",
    "# yea I pretty sure this method is not going to work"
   ]
  },
  {
   "cell_type": "code",
   "execution_count": 22,
   "id": "486954e7",
   "metadata": {},
   "outputs": [
    {
     "data": {
      "text/plain": [
       "['hello', 'world', 'this', 'is', 'great']"
      ]
     },
     "execution_count": 22,
     "metadata": {},
     "output_type": "execute_result"
    }
   ],
   "source": [
    "ex_input"
   ]
  },
  {
   "cell_type": "code",
   "execution_count": 25,
   "id": "d4a81ebd",
   "metadata": {},
   "outputs": [],
   "source": [
    "# answer key solution\n",
    "def smash(words):\n",
    "    return \" \".join(words)    "
   ]
  },
  {
   "cell_type": "code",
   "execution_count": 26,
   "id": "a3cff048",
   "metadata": {},
   "outputs": [
    {
     "data": {
      "text/plain": [
       "'hello world this is great'"
      ]
     },
     "execution_count": 26,
     "metadata": {},
     "output_type": "execute_result"
    }
   ],
   "source": [
    "smash(ex_input)"
   ]
  },
  {
   "cell_type": "code",
   "execution_count": 27,
   "id": "4be48ae3",
   "metadata": {},
   "outputs": [],
   "source": [
    "# .join() method, takes all objects in an iterable and joins them into a string"
   ]
  }
 ],
 "metadata": {
  "kernelspec": {
   "display_name": "Python 3 (ipykernel)",
   "language": "python",
   "name": "python3"
  },
  "language_info": {
   "codemirror_mode": {
    "name": "ipython",
    "version": 3
   },
   "file_extension": ".py",
   "mimetype": "text/x-python",
   "name": "python",
   "nbconvert_exporter": "python",
   "pygments_lexer": "ipython3",
   "version": "3.9.7"
  }
 },
 "nbformat": 4,
 "nbformat_minor": 5
}
