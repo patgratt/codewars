{
 "cells": [
  {
   "cell_type": "code",
   "execution_count": 1,
   "id": "6f6bf2d6",
   "metadata": {},
   "outputs": [],
   "source": [
    "test_case = [[10,0],[3,5],[5,8]]"
   ]
  },
  {
   "cell_type": "code",
   "execution_count": 5,
   "id": "08b1aac5",
   "metadata": {},
   "outputs": [],
   "source": [
    "def number(bus_stops):\n",
    "    result = 0\n",
    "    result += sum(a[0] for a in bus_stops)\n",
    "    result -= sum(a[1] for a in bus_stops)\n",
    "    return result"
   ]
  },
  {
   "cell_type": "code",
   "execution_count": 6,
   "id": "0d3d8238",
   "metadata": {},
   "outputs": [
    {
     "data": {
      "text/plain": [
       "5"
      ]
     },
     "execution_count": 6,
     "metadata": {},
     "output_type": "execute_result"
    }
   ],
   "source": [
    "number(test_case)"
   ]
  },
  {
   "cell_type": "markdown",
   "id": "109ba49b",
   "metadata": {},
   "source": [
    "bro i'm actually getting good as fuck at this"
   ]
  }
 ],
 "metadata": {
  "kernelspec": {
   "display_name": "Python 3 (ipykernel)",
   "language": "python",
   "name": "python3"
  },
  "language_info": {
   "codemirror_mode": {
    "name": "ipython",
    "version": 3
   },
   "file_extension": ".py",
   "mimetype": "text/x-python",
   "name": "python",
   "nbconvert_exporter": "python",
   "pygments_lexer": "ipython3",
   "version": "3.9.7"
  }
 },
 "nbformat": 4,
 "nbformat_minor": 5
}
