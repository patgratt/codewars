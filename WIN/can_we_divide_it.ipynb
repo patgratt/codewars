{
 "cells": [
  {
   "cell_type": "code",
   "execution_count": 6,
   "id": "d7be3ee8",
   "metadata": {},
   "outputs": [],
   "source": [
    "def is_divide_by(number,a,b):\n",
    "    return number % a == 0 and number % b == 0"
   ]
  },
  {
   "cell_type": "code",
   "execution_count": 7,
   "id": "d4ec6189",
   "metadata": {},
   "outputs": [
    {
     "data": {
      "text/plain": [
       "False"
      ]
     },
     "execution_count": 7,
     "metadata": {},
     "output_type": "execute_result"
    }
   ],
   "source": [
    "isDivideBy(10,6,2)"
   ]
  },
  {
   "cell_type": "code",
   "execution_count": 8,
   "id": "9018ca4f",
   "metadata": {},
   "outputs": [],
   "source": [
    "# easy money"
   ]
  }
 ],
 "metadata": {
  "kernelspec": {
   "display_name": "Python 3 (ipykernel)",
   "language": "python",
   "name": "python3"
  },
  "language_info": {
   "codemirror_mode": {
    "name": "ipython",
    "version": 3
   },
   "file_extension": ".py",
   "mimetype": "text/x-python",
   "name": "python",
   "nbconvert_exporter": "python",
   "pygments_lexer": "ipython3",
   "version": "3.9.7"
  }
 },
 "nbformat": 4,
 "nbformat_minor": 5
}
