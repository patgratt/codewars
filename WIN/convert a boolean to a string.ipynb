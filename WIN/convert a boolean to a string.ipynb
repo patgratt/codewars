{
 "cells": [
  {
   "cell_type": "code",
   "execution_count": 1,
   "id": "7cee2c21",
   "metadata": {},
   "outputs": [],
   "source": [
    "g = False"
   ]
  },
  {
   "cell_type": "code",
   "execution_count": 2,
   "id": "7619844a",
   "metadata": {},
   "outputs": [
    {
     "data": {
      "text/plain": [
       "'False'"
      ]
     },
     "execution_count": 2,
     "metadata": {},
     "output_type": "execute_result"
    }
   ],
   "source": [
    "str(g)"
   ]
  },
  {
   "cell_type": "code",
   "execution_count": null,
   "id": "2b4c62fc",
   "metadata": {},
   "outputs": [],
   "source": [
    "# easy af"
   ]
  }
 ],
 "metadata": {
  "kernelspec": {
   "display_name": "Python 3 (ipykernel)",
   "language": "python",
   "name": "python3"
  },
  "language_info": {
   "codemirror_mode": {
    "name": "ipython",
    "version": 3
   },
   "file_extension": ".py",
   "mimetype": "text/x-python",
   "name": "python",
   "nbconvert_exporter": "python",
   "pygments_lexer": "ipython3",
   "version": "3.9.7"
  }
 },
 "nbformat": 4,
 "nbformat_minor": 5
}
