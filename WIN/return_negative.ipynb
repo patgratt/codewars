{
 "cells": [
  {
   "cell_type": "code",
   "execution_count": 1,
   "id": "c192369d",
   "metadata": {},
   "outputs": [],
   "source": [
    "def make_negative(number):\n",
    "    if number >= 0:\n",
    "        return number * (-1)\n",
    "    if number < 0:\n",
    "        return number"
   ]
  },
  {
   "cell_type": "code",
   "execution_count": 2,
   "id": "7293cef1",
   "metadata": {},
   "outputs": [
    {
     "data": {
      "text/plain": [
       "-5"
      ]
     },
     "execution_count": 2,
     "metadata": {},
     "output_type": "execute_result"
    }
   ],
   "source": [
    "make_negative(5)"
   ]
  },
  {
   "cell_type": "code",
   "execution_count": 3,
   "id": "c5cdc750",
   "metadata": {},
   "outputs": [
    {
     "data": {
      "text/plain": [
       "-5"
      ]
     },
     "execution_count": 3,
     "metadata": {},
     "output_type": "execute_result"
    }
   ],
   "source": [
    "make_negative(-5)"
   ]
  }
 ],
 "metadata": {
  "kernelspec": {
   "display_name": "Python 3 (ipykernel)",
   "language": "python",
   "name": "python3"
  },
  "language_info": {
   "codemirror_mode": {
    "name": "ipython",
    "version": 3
   },
   "file_extension": ".py",
   "mimetype": "text/x-python",
   "name": "python",
   "nbconvert_exporter": "python",
   "pygments_lexer": "ipython3",
   "version": "3.9.7"
  }
 },
 "nbformat": 4,
 "nbformat_minor": 5
}
