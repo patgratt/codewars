{
 "cells": [
  {
   "cell_type": "code",
   "execution_count": 3,
   "id": "2269918b",
   "metadata": {},
   "outputs": [],
   "source": [
    "# example haystack\n",
    "\n",
    "ex_array = ['hay', 'junk', 'hay', 'hay', 'moreJunk', 'needle', 'randomJunk']"
   ]
  },
  {
   "cell_type": "code",
   "execution_count": 4,
   "id": "9ec8289f",
   "metadata": {},
   "outputs": [
    {
     "data": {
      "text/plain": [
       "True"
      ]
     },
     "execution_count": 4,
     "metadata": {},
     "output_type": "execute_result"
    }
   ],
   "source": [
    "# this is kinda cool you can just do this to check if its present\n",
    "\n",
    "'needle' in ex_array"
   ]
  },
  {
   "cell_type": "code",
   "execution_count": 5,
   "id": "a1bce40d",
   "metadata": {},
   "outputs": [],
   "source": [
    "# ok I give up"
   ]
  },
  {
   "cell_type": "code",
   "execution_count": 6,
   "id": "7ae9238e",
   "metadata": {},
   "outputs": [
    {
     "data": {
      "text/plain": [
       "5"
      ]
     },
     "execution_count": 6,
     "metadata": {},
     "output_type": "execute_result"
    }
   ],
   "source": [
    "# we needed the .index method\n",
    "\n",
    "ex_array.index('needle')"
   ]
  },
  {
   "cell_type": "code",
   "execution_count": 7,
   "id": "9bfea630",
   "metadata": {},
   "outputs": [],
   "source": [
    "def find_needle(haystack):\n",
    "    return 'found the needle at position {}'.format(haystack.index('needle'))"
   ]
  },
  {
   "cell_type": "code",
   "execution_count": 8,
   "id": "32cc0e6c",
   "metadata": {},
   "outputs": [
    {
     "data": {
      "text/plain": [
       "'found the needle at position 5'"
      ]
     },
     "execution_count": 8,
     "metadata": {},
     "output_type": "execute_result"
    }
   ],
   "source": [
    "find_needle(ex_array)"
   ]
  },
  {
   "cell_type": "code",
   "execution_count": 9,
   "id": "0580e793",
   "metadata": {},
   "outputs": [],
   "source": [
    "# other solution using this % shit fuck that nvm"
   ]
  },
  {
   "cell_type": "code",
   "execution_count": 17,
   "id": "9203ad5d",
   "metadata": {},
   "outputs": [],
   "source": [
    "# could also f string\n",
    "def find_needle(haystack):\n",
    "    return f\"found the needle at position {haystack.index('needle')}\""
   ]
  },
  {
   "cell_type": "code",
   "execution_count": 18,
   "id": "53e192de",
   "metadata": {},
   "outputs": [
    {
     "data": {
      "text/plain": [
       "'found the needle at position 5'"
      ]
     },
     "execution_count": 18,
     "metadata": {},
     "output_type": "execute_result"
    }
   ],
   "source": [
    "find_needle(ex_array)"
   ]
  }
 ],
 "metadata": {
  "kernelspec": {
   "display_name": "Python 3 (ipykernel)",
   "language": "python",
   "name": "python3"
  },
  "language_info": {
   "codemirror_mode": {
    "name": "ipython",
    "version": 3
   },
   "file_extension": ".py",
   "mimetype": "text/x-python",
   "name": "python",
   "nbconvert_exporter": "python",
   "pygments_lexer": "ipython3",
   "version": "3.9.7"
  }
 },
 "nbformat": 4,
 "nbformat_minor": 5
}
