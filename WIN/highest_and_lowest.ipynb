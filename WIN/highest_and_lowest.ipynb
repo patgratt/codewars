{
 "cells": [
  {
   "cell_type": "code",
   "execution_count": 1,
   "id": "a5d6d6ba",
   "metadata": {},
   "outputs": [],
   "source": [
    "ex_str = \"1 9 3 4 -5\""
   ]
  },
  {
   "cell_type": "code",
   "execution_count": 3,
   "id": "f520ceb7",
   "metadata": {},
   "outputs": [
    {
     "data": {
      "text/plain": [
       "['1', '9', '3', '4', '-5']"
      ]
     },
     "execution_count": 3,
     "metadata": {},
     "output_type": "execute_result"
    }
   ],
   "source": [
    "ex_str.split()"
   ]
  },
  {
   "cell_type": "code",
   "execution_count": 9,
   "id": "a01ae8e8",
   "metadata": {},
   "outputs": [],
   "source": [
    "for i in ex_str.split():\n",
    "    g = int(i)"
   ]
  },
  {
   "cell_type": "code",
   "execution_count": 30,
   "id": "4b0b2c5c",
   "metadata": {},
   "outputs": [],
   "source": [
    "def high_and_low(numbers): \n",
    "    new = []\n",
    "    for i in numbers.split():\n",
    "        new.append(int(i))\n",
    "    new = sorted(new)\n",
    "    result = str(new[-1]) + ' ' + str(new[0])\n",
    "    return result"
   ]
  },
  {
   "cell_type": "code",
   "execution_count": 31,
   "id": "dc1524f0",
   "metadata": {},
   "outputs": [
    {
     "data": {
      "text/plain": [
       "'9 -5'"
      ]
     },
     "execution_count": 31,
     "metadata": {},
     "output_type": "execute_result"
    }
   ],
   "source": [
    "high_and_low(ex_str)"
   ]
  }
 ],
 "metadata": {
  "kernelspec": {
   "display_name": "Python 3 (ipykernel)",
   "language": "python",
   "name": "python3"
  },
  "language_info": {
   "codemirror_mode": {
    "name": "ipython",
    "version": 3
   },
   "file_extension": ".py",
   "mimetype": "text/x-python",
   "name": "python",
   "nbconvert_exporter": "python",
   "pygments_lexer": "ipython3",
   "version": "3.9.7"
  }
 },
 "nbformat": 4,
 "nbformat_minor": 5
}
