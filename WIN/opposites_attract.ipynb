{
 "cells": [
  {
   "cell_type": "code",
   "execution_count": 8,
   "id": "f18515c5",
   "metadata": {},
   "outputs": [],
   "source": [
    "def lovefunc(flower1, flower2):\n",
    "    if flower1 % 2 == 0 and flower2 % 2 != 0:\n",
    "        return True\n",
    "    elif flower1 % 2 != 0 and flower2 % 2 == 0:\n",
    "        return True\n",
    "    else:\n",
    "        return False"
   ]
  },
  {
   "cell_type": "code",
   "execution_count": 9,
   "id": "911c64c3",
   "metadata": {},
   "outputs": [],
   "source": [
    "# correct!"
   ]
  },
  {
   "cell_type": "code",
   "execution_count": 11,
   "id": "26abf52b",
   "metadata": {},
   "outputs": [],
   "source": [
    "# more efficient solution\n",
    "def lovefunc(flower1, flower2):\n",
    "    return flower1 % 2 != flower2 % 2"
   ]
  }
 ],
 "metadata": {
  "kernelspec": {
   "display_name": "Python 3 (ipykernel)",
   "language": "python",
   "name": "python3"
  },
  "language_info": {
   "codemirror_mode": {
    "name": "ipython",
    "version": 3
   },
   "file_extension": ".py",
   "mimetype": "text/x-python",
   "name": "python",
   "nbconvert_exporter": "python",
   "pygments_lexer": "ipython3",
   "version": "3.9.7"
  }
 },
 "nbformat": 4,
 "nbformat_minor": 5
}
