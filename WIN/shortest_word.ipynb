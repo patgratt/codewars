{
 "cells": [
  {
   "cell_type": "code",
   "execution_count": 1,
   "id": "7d16636c",
   "metadata": {},
   "outputs": [],
   "source": [
    "test_case = \"bitcoin take over the world maybe who knows perhaps\""
   ]
  },
  {
   "cell_type": "code",
   "execution_count": 13,
   "id": "b9892458",
   "metadata": {},
   "outputs": [],
   "source": [
    "def find_short(s):\n",
    "    return sorted(list(len(a) for a in s.split()))[0]"
   ]
  },
  {
   "cell_type": "code",
   "execution_count": 15,
   "id": "5e48b295",
   "metadata": {},
   "outputs": [
    {
     "data": {
      "text/plain": [
       "3"
      ]
     },
     "execution_count": 15,
     "metadata": {},
     "output_type": "execute_result"
    }
   ],
   "source": [
    "find_short(test_case)"
   ]
  },
  {
   "cell_type": "code",
   "execution_count": null,
   "id": "1f0232fc",
   "metadata": {},
   "outputs": [],
   "source": [
    "# dude i'm so good"
   ]
  }
 ],
 "metadata": {
  "kernelspec": {
   "display_name": "Python 3 (ipykernel)",
   "language": "python",
   "name": "python3"
  },
  "language_info": {
   "codemirror_mode": {
    "name": "ipython",
    "version": 3
   },
   "file_extension": ".py",
   "mimetype": "text/x-python",
   "name": "python",
   "nbconvert_exporter": "python",
   "pygments_lexer": "ipython3",
   "version": "3.9.7"
  }
 },
 "nbformat": 4,
 "nbformat_minor": 5
}
