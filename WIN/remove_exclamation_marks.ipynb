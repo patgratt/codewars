{
 "cells": [
  {
   "cell_type": "code",
   "execution_count": 7,
   "id": "3b3f00fb",
   "metadata": {},
   "outputs": [],
   "source": [
    "def remove_exclamation_marks(s):\n",
    "    return s.replace('!','')\n",
    "# looked up string.replace() method"
   ]
  },
  {
   "cell_type": "code",
   "execution_count": 8,
   "id": "c7df2cbd",
   "metadata": {},
   "outputs": [
    {
     "data": {
      "text/plain": [
       "'fuck you bitch '"
      ]
     },
     "execution_count": 8,
     "metadata": {},
     "output_type": "execute_result"
    }
   ],
   "source": [
    "remove_exclamation_marks('fuck you!! bitch !!')"
   ]
  }
 ],
 "metadata": {
  "kernelspec": {
   "display_name": "Python 3 (ipykernel)",
   "language": "python",
   "name": "python3"
  },
  "language_info": {
   "codemirror_mode": {
    "name": "ipython",
    "version": 3
   },
   "file_extension": ".py",
   "mimetype": "text/x-python",
   "name": "python",
   "nbconvert_exporter": "python",
   "pygments_lexer": "ipython3",
   "version": "3.9.7"
  }
 },
 "nbformat": 4,
 "nbformat_minor": 5
}
