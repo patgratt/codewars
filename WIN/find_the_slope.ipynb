{
 "cells": [
  {
   "cell_type": "code",
   "execution_count": 1,
   "id": "fbe78966",
   "metadata": {},
   "outputs": [],
   "source": [
    "ex = [19,3,20,3]\n",
    "# represents two points (a,b) and (c,d)"
   ]
  },
  {
   "cell_type": "code",
   "execution_count": 9,
   "id": "ce07c6e4",
   "metadata": {},
   "outputs": [],
   "source": [
    "def find_slope(points):\n",
    "    if points[0] == points[2]:\n",
    "        return 'undefined'\n",
    "    else:\n",
    "        return str( int( (points[3]-points[1]) / (points[2]-points[0]) ) )"
   ]
  },
  {
   "cell_type": "code",
   "execution_count": 10,
   "id": "5eef1693",
   "metadata": {},
   "outputs": [
    {
     "data": {
      "text/plain": [
       "'0'"
      ]
     },
     "execution_count": 10,
     "metadata": {},
     "output_type": "execute_result"
    }
   ],
   "source": [
    "find_slope(ex)"
   ]
  },
  {
   "cell_type": "code",
   "execution_count": 11,
   "id": "3ea9ca9a",
   "metadata": {},
   "outputs": [
    {
     "data": {
      "text/plain": [
       "'5'"
      ]
     },
     "execution_count": 11,
     "metadata": {},
     "output_type": "execute_result"
    }
   ],
   "source": [
    "find_slope([10,50,30,150])"
   ]
  }
 ],
 "metadata": {
  "kernelspec": {
   "display_name": "Python 3 (ipykernel)",
   "language": "python",
   "name": "python3"
  },
  "language_info": {
   "codemirror_mode": {
    "name": "ipython",
    "version": 3
   },
   "file_extension": ".py",
   "mimetype": "text/x-python",
   "name": "python",
   "nbconvert_exporter": "python",
   "pygments_lexer": "ipython3",
   "version": "3.9.7"
  }
 },
 "nbformat": 4,
 "nbformat_minor": 5
}
