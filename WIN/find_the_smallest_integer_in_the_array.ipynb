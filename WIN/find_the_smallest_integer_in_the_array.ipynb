{
 "cells": [
  {
   "cell_type": "code",
   "execution_count": 17,
   "id": "c0938e4f",
   "metadata": {},
   "outputs": [],
   "source": [
    "ex_arr = [-55, 4, 44]\n",
    "ex_arr2 = [999, 83, -99, 0, -23]"
   ]
  },
  {
   "cell_type": "code",
   "execution_count": 18,
   "id": "2320307a",
   "metadata": {},
   "outputs": [],
   "source": [
    "def find_smallest_int(arr):\n",
    "    return(sorted(arr)[0])"
   ]
  },
  {
   "cell_type": "code",
   "execution_count": 19,
   "id": "f49d1db7",
   "metadata": {},
   "outputs": [
    {
     "data": {
      "text/plain": [
       "-55"
      ]
     },
     "execution_count": 19,
     "metadata": {},
     "output_type": "execute_result"
    }
   ],
   "source": [
    "find_smallest_int(ex_arr)"
   ]
  },
  {
   "cell_type": "code",
   "execution_count": 20,
   "id": "ff4dc016",
   "metadata": {},
   "outputs": [
    {
     "data": {
      "text/plain": [
       "-99"
      ]
     },
     "execution_count": 20,
     "metadata": {},
     "output_type": "execute_result"
    }
   ],
   "source": [
    "find_smallest_int(ex_arr2)"
   ]
  },
  {
   "cell_type": "code",
   "execution_count": null,
   "id": "5bb90710",
   "metadata": {},
   "outputs": [],
   "source": [
    "# checked documentation for sorted()"
   ]
  }
 ],
 "metadata": {
  "kernelspec": {
   "display_name": "Python 3 (ipykernel)",
   "language": "python",
   "name": "python3"
  },
  "language_info": {
   "codemirror_mode": {
    "name": "ipython",
    "version": 3
   },
   "file_extension": ".py",
   "mimetype": "text/x-python",
   "name": "python",
   "nbconvert_exporter": "python",
   "pygments_lexer": "ipython3",
   "version": "3.9.7"
  }
 },
 "nbformat": 4,
 "nbformat_minor": 5
}
