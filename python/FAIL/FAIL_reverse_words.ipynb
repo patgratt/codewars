{
 "cells": [
  {
   "cell_type": "code",
   "execution_count": 24,
   "id": "77b4eb2e",
   "metadata": {},
   "outputs": [
    {
     "data": {
      "text/plain": [
       "'This is an example!'"
      ]
     },
     "execution_count": 24,
     "metadata": {},
     "output_type": "execute_result"
    }
   ],
   "source": [
    "ex_input = \"This is an example!\"\n",
    "ex_input"
   ]
  },
  {
   "cell_type": "code",
   "execution_count": 25,
   "id": "e15d9e17",
   "metadata": {},
   "outputs": [],
   "source": [
    "split1 = ex_input.split()"
   ]
  },
  {
   "cell_type": "code",
   "execution_count": 26,
   "id": "3955640d",
   "metadata": {},
   "outputs": [
    {
     "data": {
      "text/plain": [
       "['This', 'is', 'an', 'example!']"
      ]
     },
     "execution_count": 26,
     "metadata": {},
     "output_type": "execute_result"
    }
   ],
   "source": [
    "split1"
   ]
  },
  {
   "cell_type": "code",
   "execution_count": 29,
   "id": "10de394c",
   "metadata": {},
   "outputs": [],
   "source": [
    "split2 = list(a.split() for a in split1)"
   ]
  },
  {
   "cell_type": "code",
   "execution_count": 32,
   "id": "2b75ab6f",
   "metadata": {},
   "outputs": [
    {
     "data": {
      "text/plain": [
       "[['This'], ['is'], ['an'], ['example!']]"
      ]
     },
     "execution_count": 32,
     "metadata": {},
     "output_type": "execute_result"
    }
   ],
   "source": [
    "split2"
   ]
  },
  {
   "cell_type": "code",
   "execution_count": 35,
   "id": "658bd87b",
   "metadata": {},
   "outputs": [
    {
     "data": {
      "text/plain": [
       "'This'"
      ]
     },
     "execution_count": 35,
     "metadata": {},
     "output_type": "execute_result"
    }
   ],
   "source": [
    "split2[0][0]"
   ]
  },
  {
   "cell_type": "code",
   "execution_count": 39,
   "id": "0e3e4b59",
   "metadata": {},
   "outputs": [],
   "source": [
    "split3 = list(a[0][0] for a in split2)"
   ]
  },
  {
   "cell_type": "code",
   "execution_count": 40,
   "id": "5f4cd6f9",
   "metadata": {},
   "outputs": [
    {
     "data": {
      "text/plain": [
       "['T', 'i', 'a', 'e']"
      ]
     },
     "execution_count": 40,
     "metadata": {},
     "output_type": "execute_result"
    }
   ],
   "source": [
    "split3"
   ]
  },
  {
   "cell_type": "code",
   "execution_count": 41,
   "id": "d7599105",
   "metadata": {},
   "outputs": [],
   "source": [
    "# i'm close but looking at solution"
   ]
  },
  {
   "cell_type": "code",
   "execution_count": 42,
   "id": "7c17082e",
   "metadata": {},
   "outputs": [
    {
     "data": {
      "text/plain": [
       "'This is an example!'"
      ]
     },
     "execution_count": 42,
     "metadata": {},
     "output_type": "execute_result"
    }
   ],
   "source": [
    "ex_input = \"This is an example!\"\n",
    "ex_input"
   ]
  },
  {
   "cell_type": "code",
   "execution_count": 43,
   "id": "44dddc2d",
   "metadata": {},
   "outputs": [
    {
     "data": {
      "text/plain": [
       "['This', 'is', 'an', 'example!']"
      ]
     },
     "execution_count": 43,
     "metadata": {},
     "output_type": "execute_result"
    }
   ],
   "source": [
    "split1"
   ]
  },
  {
   "cell_type": "code",
   "execution_count": 54,
   "id": "0a008e47",
   "metadata": {},
   "outputs": [
    {
     "data": {
      "text/plain": [
       "'!elpmaxe na si sihT'"
      ]
     },
     "execution_count": 54,
     "metadata": {},
     "output_type": "execute_result"
    }
   ],
   "source": [
    "# this right here is how you reverse any iterable\n",
    "ex_input[::-1]"
   ]
  },
  {
   "cell_type": "code",
   "execution_count": 55,
   "id": "dbf3f0d4",
   "metadata": {},
   "outputs": [
    {
     "data": {
      "text/plain": [
       "'This is an example!'"
      ]
     },
     "execution_count": 55,
     "metadata": {},
     "output_type": "execute_result"
    }
   ],
   "source": [
    "ex_input = \"This is an example!\"\n",
    "ex_input"
   ]
  },
  {
   "cell_type": "code",
   "execution_count": 60,
   "id": "4d5f4175",
   "metadata": {},
   "outputs": [],
   "source": [
    "def reverse_words(string):\n",
    "    return ' '.join(s[::-1] for s in string.split())"
   ]
  },
  {
   "cell_type": "code",
   "execution_count": 61,
   "id": "a204b73d",
   "metadata": {},
   "outputs": [
    {
     "data": {
      "text/plain": [
       "'sihT si na !elpmaxe'"
      ]
     },
     "execution_count": 61,
     "metadata": {},
     "output_type": "execute_result"
    }
   ],
   "source": [
    "reverse_words(ex_input)"
   ]
  }
 ],
 "metadata": {
  "kernelspec": {
   "display_name": "Python 3 (ipykernel)",
   "language": "python",
   "name": "python3"
  },
  "language_info": {
   "codemirror_mode": {
    "name": "ipython",
    "version": 3
   },
   "file_extension": ".py",
   "mimetype": "text/x-python",
   "name": "python",
   "nbconvert_exporter": "python",
   "pygments_lexer": "ipython3",
   "version": "3.9.7"
  }
 },
 "nbformat": 4,
 "nbformat_minor": 5
}
