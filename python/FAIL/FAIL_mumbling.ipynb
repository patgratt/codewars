{
 "cells": [
  {
   "cell_type": "code",
   "execution_count": 5,
   "id": "7059a9b9",
   "metadata": {},
   "outputs": [],
   "source": [
    "ex = \"RqaEzty\""
   ]
  },
  {
   "cell_type": "code",
   "execution_count": 6,
   "id": "eb10bad6",
   "metadata": {},
   "outputs": [],
   "source": [
    "def accum(s):\n",
    "    return '-'.join(a[0].capitalize() for a in s)"
   ]
  },
  {
   "cell_type": "code",
   "execution_count": 8,
   "id": "33df3d82",
   "metadata": {},
   "outputs": [
    {
     "data": {
      "text/plain": [
       "'R-Q-A-E-Z-T-Y'"
      ]
     },
     "execution_count": 8,
     "metadata": {},
     "output_type": "execute_result"
    }
   ],
   "source": [
    "accum(ex)\n",
    "# idk how to do the second part"
   ]
  },
  {
   "cell_type": "code",
   "execution_count": 11,
   "id": "0f8f11c9",
   "metadata": {},
   "outputs": [],
   "source": [
    "# enumerate() gives you back two loop variables, the count of the current iteration and the value of the item at the current iteration"
   ]
  },
  {
   "cell_type": "code",
   "execution_count": 12,
   "id": "45f091a9",
   "metadata": {},
   "outputs": [],
   "source": [
    "def accum(s):\n",
    "    return '-'.join(c.upper() + c.lower() * i for i, c in enumerate(s))"
   ]
  },
  {
   "cell_type": "code",
   "execution_count": 13,
   "id": "dc7d2845",
   "metadata": {},
   "outputs": [
    {
     "data": {
      "text/plain": [
       "'R-Qq-Aaa-Eeee-Zzzzz-Tttttt-Yyyyyyy'"
      ]
     },
     "execution_count": 13,
     "metadata": {},
     "output_type": "execute_result"
    }
   ],
   "source": [
    "accum(ex)"
   ]
  }
 ],
 "metadata": {
  "kernelspec": {
   "display_name": "Python 3 (ipykernel)",
   "language": "python",
   "name": "python3"
  },
  "language_info": {
   "codemirror_mode": {
    "name": "ipython",
    "version": 3
   },
   "file_extension": ".py",
   "mimetype": "text/x-python",
   "name": "python",
   "nbconvert_exporter": "python",
   "pygments_lexer": "ipython3",
   "version": "3.9.7"
  }
 },
 "nbformat": 4,
 "nbformat_minor": 5
}
