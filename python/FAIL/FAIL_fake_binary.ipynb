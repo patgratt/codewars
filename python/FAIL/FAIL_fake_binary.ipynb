{
 "cells": [
  {
   "cell_type": "code",
   "execution_count": 1,
   "id": "9d60530b",
   "metadata": {},
   "outputs": [],
   "source": [
    "ex = \"45385593107843568\""
   ]
  },
  {
   "cell_type": "code",
   "execution_count": 13,
   "id": "adb3f8cb",
   "metadata": {},
   "outputs": [],
   "source": [
    "def fake_bin(x):\n",
    "    result = ''\n",
    "    for a in x:\n",
    "        if int(a) >= 5:\n",
    "            result += (x.replace(a,'1'))\n",
    "        else:\n",
    "            result += (x.replace(a,'0'))\n",
    "    return result          "
   ]
  },
  {
   "cell_type": "code",
   "execution_count": 16,
   "id": "e8b10d03",
   "metadata": {},
   "outputs": [
    {
     "data": {
      "text/plain": [
       "'0538559310780356841381193107843168450855901078405684531559310714356141381193107843168413811931078431684538551310784356845085590107840568453855930078435684538559310784356845385593101843568453155931071435610538559310780356845085590107840568413811931078431684538559310784351845315593107143561'"
      ]
     },
     "execution_count": 16,
     "metadata": {},
     "output_type": "execute_result"
    }
   ],
   "source": [
    "fake_bin(ex)\n",
    "# fuck am i doing\n",
    "# fail whatever"
   ]
  },
  {
   "cell_type": "code",
   "execution_count": 17,
   "id": "66408cf7",
   "metadata": {},
   "outputs": [],
   "source": [
    "def fake_bin(x):\n",
    "    return ''.join('0' if c < '5' else '1' for c in x)"
   ]
  },
  {
   "cell_type": "code",
   "execution_count": 19,
   "id": "263eb4b8",
   "metadata": {},
   "outputs": [
    {
     "data": {
      "text/plain": [
       "'01011110001100111'"
      ]
     },
     "execution_count": 19,
     "metadata": {},
     "output_type": "execute_result"
    }
   ],
   "source": [
    "fake_bin(ex)"
   ]
  },
  {
   "cell_type": "code",
   "execution_count": 21,
   "id": "a786d692",
   "metadata": {},
   "outputs": [
    {
     "data": {
      "text/plain": [
       "True"
      ]
     },
     "execution_count": 21,
     "metadata": {},
     "output_type": "execute_result"
    }
   ],
   "source": [
    "'5' > '3'\n",
    "# interesting i didn't know you could do math with numbers inside of a string"
   ]
  },
  {
   "cell_type": "code",
   "execution_count": 22,
   "id": "9790284f",
   "metadata": {},
   "outputs": [
    {
     "data": {
      "text/plain": [
       "False"
      ]
     },
     "execution_count": 22,
     "metadata": {},
     "output_type": "execute_result"
    }
   ],
   "source": [
    "'1' > '9'"
   ]
  }
 ],
 "metadata": {
  "kernelspec": {
   "display_name": "Python 3 (ipykernel)",
   "language": "python",
   "name": "python3"
  },
  "language_info": {
   "codemirror_mode": {
    "name": "ipython",
    "version": 3
   },
   "file_extension": ".py",
   "mimetype": "text/x-python",
   "name": "python",
   "nbconvert_exporter": "python",
   "pygments_lexer": "ipython3",
   "version": "3.9.7"
  }
 },
 "nbformat": 4,
 "nbformat_minor": 5
}
