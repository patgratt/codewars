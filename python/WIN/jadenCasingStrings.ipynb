{
 "cells": [
  {
   "cell_type": "code",
   "execution_count": 1,
   "id": "eccdf9bf",
   "metadata": {},
   "outputs": [
    {
     "name": "stdout",
     "output_type": "stream",
     "text": [
      "How Can Mirrors Be Real If Our Eyes Aren't Real\n"
     ]
    }
   ],
   "source": [
    "quote = \"How can mirrors be real if our eyes aren't real\"\n",
    "\n",
    "def to_jaden_case(string):\n",
    "    arr = string.split(\" \")\n",
    "    return \" \".join(word[0].upper() + word[1:].lower() for word in arr)\n",
    "\n",
    "print(to_jaden_case(quote))"
   ]
  },
  {
   "cell_type": "code",
   "execution_count": 4,
   "id": "1c31fdf7",
   "metadata": {},
   "outputs": [],
   "source": [
    "# could have used .capitalize\n",
    "\n",
    "quote1 =  \"How can mirrors be real if our eyes aren't real\"\n",
    "arr = quote1.split()"
   ]
  },
  {
   "cell_type": "code",
   "execution_count": 5,
   "id": "bb77238f",
   "metadata": {},
   "outputs": [
    {
     "data": {
      "text/plain": [
       "['How', 'can', 'mirrors', 'be', 'real', 'if', 'our', 'eyes', \"aren't\", 'real']"
      ]
     },
     "execution_count": 5,
     "metadata": {},
     "output_type": "execute_result"
    }
   ],
   "source": [
    "arr"
   ]
  },
  {
   "cell_type": "code",
   "execution_count": 8,
   "id": "7bd0dda5",
   "metadata": {},
   "outputs": [
    {
     "data": {
      "text/plain": [
       "\"How Can Mirrors Be Real If Our Eyes Aren't Real\""
      ]
     },
     "execution_count": 8,
     "metadata": {},
     "output_type": "execute_result"
    }
   ],
   "source": [
    "\" \".join(word.capitalize() for word in arr)"
   ]
  }
 ],
 "metadata": {
  "kernelspec": {
   "display_name": "Python 3.9.12 ('base')",
   "language": "python",
   "name": "python3"
  },
  "language_info": {
   "codemirror_mode": {
    "name": "ipython",
    "version": 3
   },
   "file_extension": ".py",
   "mimetype": "text/x-python",
   "name": "python",
   "nbconvert_exporter": "python",
   "pygments_lexer": "ipython3",
   "version": "3.9.12"
  },
  "vscode": {
   "interpreter": {
    "hash": "40203b3ec892d21f304b904bd7441b754322a8b95cad2515f623282baa87ac4b"
   }
  }
 },
 "nbformat": 4,
 "nbformat_minor": 5
}
