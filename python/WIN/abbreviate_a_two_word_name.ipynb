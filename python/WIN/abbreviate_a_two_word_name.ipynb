{
 "cells": [
  {
   "cell_type": "code",
   "execution_count": 34,
   "id": "d6ddf6d7",
   "metadata": {},
   "outputs": [],
   "source": [
    "ex_name = 'hello world'"
   ]
  },
  {
   "cell_type": "code",
   "execution_count": 44,
   "id": "246c66c7",
   "metadata": {},
   "outputs": [],
   "source": [
    "def abbrev_name(name):\n",
    "    name_list = name.split()\n",
    "    first = name_list[0][0]\n",
    "    second = name_list[1][0]\n",
    "    return first.upper() + '.' + second.upper()"
   ]
  },
  {
   "cell_type": "code",
   "execution_count": 47,
   "id": "e60c20da",
   "metadata": {},
   "outputs": [
    {
     "data": {
      "text/plain": [
       "'H.W'"
      ]
     },
     "execution_count": 47,
     "metadata": {},
     "output_type": "execute_result"
    }
   ],
   "source": [
    "abbrev_name(ex_name)\n",
    "# used google a bit to help but didn't look at solution"
   ]
  },
  {
   "cell_type": "markdown",
   "id": "a6ea30b6",
   "metadata": {},
   "source": [
    "originally I was trying to use a for loop which wasn't working, this is how you would correctly do that:"
   ]
  },
  {
   "cell_type": "code",
   "execution_count": 49,
   "id": "c3e37e66",
   "metadata": {},
   "outputs": [],
   "source": [
    "def abbrevName(name):\n",
    "    return '.'.join(w[0] for w in name.split()).upper()"
   ]
  }
 ],
 "metadata": {
  "kernelspec": {
   "display_name": "Python 3 (ipykernel)",
   "language": "python",
   "name": "python3"
  },
  "language_info": {
   "codemirror_mode": {
    "name": "ipython",
    "version": 3
   },
   "file_extension": ".py",
   "mimetype": "text/x-python",
   "name": "python",
   "nbconvert_exporter": "python",
   "pygments_lexer": "ipython3",
   "version": "3.9.7"
  }
 },
 "nbformat": 4,
 "nbformat_minor": 5
}
