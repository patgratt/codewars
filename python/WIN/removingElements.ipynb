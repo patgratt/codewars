{
 "cells": [
  {
   "cell_type": "code",
   "execution_count": 33,
   "metadata": {},
   "outputs": [
    {
     "data": {
      "text/plain": [
       "['Keep', 'Keep', 'Keep']"
      ]
     },
     "execution_count": 33,
     "metadata": {},
     "output_type": "execute_result"
    }
   ],
   "source": [
    "ex = [\"Keep\", \"Remove\", \"Keep\", \"Remove\", \"Keep\"]\n",
    "\n",
    "def remove_every_other(my_list):\n",
    "    new = my_list[::2]\n",
    "    return new\n",
    "\n",
    "remove_every_other(ex)"
   ]
  },
  {
   "cell_type": "code",
   "execution_count": 36,
   "metadata": {},
   "outputs": [
    {
     "data": {
      "text/plain": [
       "['Keep', 'Keep', 'Keep']"
      ]
     },
     "execution_count": 36,
     "metadata": {},
     "output_type": "execute_result"
    }
   ],
   "source": [
    "# in place\n",
    "\n",
    "ex = [\"Keep\", \"Remove\", \"Keep\", \"Remove\", \"Keep\"]\n",
    "\n",
    "def remove_every_other(my_list):\n",
    "    i = 1\n",
    "    while i < len(my_list):\n",
    "        my_list.pop(i)\n",
    "        i += 1\n",
    "    return my_list\n",
    "\n",
    "\n",
    "remove_every_other(ex)"
   ]
  }
 ],
 "metadata": {
  "kernelspec": {
   "display_name": "Python 3.9.12 ('base')",
   "language": "python",
   "name": "python3"
  },
  "language_info": {
   "codemirror_mode": {
    "name": "ipython",
    "version": 3
   },
   "file_extension": ".py",
   "mimetype": "text/x-python",
   "name": "python",
   "nbconvert_exporter": "python",
   "pygments_lexer": "ipython3",
   "version": "3.9.12"
  },
  "orig_nbformat": 4,
  "vscode": {
   "interpreter": {
    "hash": "40203b3ec892d21f304b904bd7441b754322a8b95cad2515f623282baa87ac4b"
   }
  }
 },
 "nbformat": 4,
 "nbformat_minor": 2
}
