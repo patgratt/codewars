{
 "cells": [
  {
   "cell_type": "code",
   "execution_count": 9,
   "id": "87607ea8",
   "metadata": {},
   "outputs": [],
   "source": [
    "def past(h, m, s):\n",
    "    return (h * 60 * 60 * 10**3) + (m * 60 * 10**3) + (s * 10**3)"
   ]
  },
  {
   "cell_type": "code",
   "execution_count": 8,
   "id": "959b25cf",
   "metadata": {},
   "outputs": [],
   "source": [
    "h = 5\n",
    "m = 30\n",
    "s = 30"
   ]
  },
  {
   "cell_type": "code",
   "execution_count": 10,
   "id": "88a57707",
   "metadata": {},
   "outputs": [
    {
     "data": {
      "text/plain": [
       "19830000"
      ]
     },
     "execution_count": 10,
     "metadata": {},
     "output_type": "execute_result"
    }
   ],
   "source": [
    "past(h,m,s)"
   ]
  },
  {
   "cell_type": "code",
   "execution_count": 11,
   "id": "27d0ffce",
   "metadata": {},
   "outputs": [
    {
     "data": {
      "text/plain": [
       "3905000"
      ]
     },
     "execution_count": 11,
     "metadata": {},
     "output_type": "execute_result"
    }
   ],
   "source": [
    "past(1,5,5)"
   ]
  }
 ],
 "metadata": {
  "kernelspec": {
   "display_name": "Python 3 (ipykernel)",
   "language": "python",
   "name": "python3"
  },
  "language_info": {
   "codemirror_mode": {
    "name": "ipython",
    "version": 3
   },
   "file_extension": ".py",
   "mimetype": "text/x-python",
   "name": "python",
   "nbconvert_exporter": "python",
   "pygments_lexer": "ipython3",
   "version": "3.9.7"
  }
 },
 "nbformat": 4,
 "nbformat_minor": 5
}
