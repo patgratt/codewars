{
 "cells": [
  {
   "cell_type": "code",
   "execution_count": 51,
   "id": "cc387e93",
   "metadata": {},
   "outputs": [],
   "source": [
    "ex_input = 348597"
   ]
  },
  {
   "cell_type": "code",
   "execution_count": 52,
   "id": "e7b8f887",
   "metadata": {},
   "outputs": [],
   "source": [
    "result = [int(a) for a in str(ex_input)]"
   ]
  },
  {
   "cell_type": "code",
   "execution_count": 53,
   "id": "b8f5196c",
   "metadata": {},
   "outputs": [
    {
     "data": {
      "text/plain": [
       "[3, 4, 8, 5, 9, 7]"
      ]
     },
     "execution_count": 53,
     "metadata": {},
     "output_type": "execute_result"
    }
   ],
   "source": [
    "result"
   ]
  },
  {
   "cell_type": "code",
   "execution_count": 56,
   "id": "2fde7539",
   "metadata": {},
   "outputs": [
    {
     "name": "stdout",
     "output_type": "stream",
     "text": [
      "[7, 9, 5, 8, 4, 3]\n"
     ]
    }
   ],
   "source": [
    "result.reverse()\n",
    "print(result)\n",
    "# little bit of help from google"
   ]
  },
  {
   "cell_type": "code",
   "execution_count": 62,
   "id": "01b990bd",
   "metadata": {},
   "outputs": [],
   "source": [
    "def digitize(n):\n",
    "    result = [int(a) for a in str(n)]\n",
    "    result.reverse()\n",
    "    return result"
   ]
  },
  {
   "cell_type": "code",
   "execution_count": 63,
   "id": "071095a6",
   "metadata": {},
   "outputs": [
    {
     "data": {
      "text/plain": [
       "[3, 2, 4, 3, 2]"
      ]
     },
     "execution_count": 63,
     "metadata": {},
     "output_type": "execute_result"
    }
   ],
   "source": [
    "digitize(23423)"
   ]
  }
 ],
 "metadata": {
  "kernelspec": {
   "display_name": "Python 3 (ipykernel)",
   "language": "python",
   "name": "python3"
  },
  "language_info": {
   "codemirror_mode": {
    "name": "ipython",
    "version": 3
   },
   "file_extension": ".py",
   "mimetype": "text/x-python",
   "name": "python",
   "nbconvert_exporter": "python",
   "pygments_lexer": "ipython3",
   "version": "3.9.7"
  }
 },
 "nbformat": 4,
 "nbformat_minor": 5
}
