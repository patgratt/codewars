{
 "cells": [
  {
   "cell_type": "code",
   "execution_count": 1,
   "id": "46420b7e",
   "metadata": {},
   "outputs": [],
   "source": [
    "ex_array = [1,-4,7,12]"
   ]
  },
  {
   "cell_type": "code",
   "execution_count": 21,
   "id": "5a69d72a",
   "metadata": {},
   "outputs": [],
   "source": [
    "def positive_sum(arr):\n",
    "    pos_list = []\n",
    "    for num in arr:\n",
    "        if num > 0:\n",
    "            pos_list.append(num)\n",
    "    return sum(pos_list)"
   ]
  },
  {
   "cell_type": "code",
   "execution_count": 22,
   "id": "2bee0ede",
   "metadata": {},
   "outputs": [
    {
     "data": {
      "text/plain": [
       "20"
      ]
     },
     "execution_count": 22,
     "metadata": {},
     "output_type": "execute_result"
    }
   ],
   "source": [
    "positive_sum(ex_array)"
   ]
  },
  {
   "cell_type": "code",
   "execution_count": 23,
   "id": "675bb61b",
   "metadata": {},
   "outputs": [],
   "source": [
    "fake_arr = [-5,-2,-9]"
   ]
  },
  {
   "cell_type": "code",
   "execution_count": 24,
   "id": "02ec04fc",
   "metadata": {},
   "outputs": [
    {
     "data": {
      "text/plain": [
       "0"
      ]
     },
     "execution_count": 24,
     "metadata": {},
     "output_type": "execute_result"
    }
   ],
   "source": [
    "positive_sum(fake_arr)"
   ]
  },
  {
   "cell_type": "code",
   "execution_count": 25,
   "id": "cccc092f",
   "metadata": {},
   "outputs": [],
   "source": [
    "# fuck yea baby that a win no look"
   ]
  },
  {
   "cell_type": "code",
   "execution_count": 27,
   "id": "44d46eea",
   "metadata": {},
   "outputs": [],
   "source": [
    "# heres the optimal solution\n",
    "def positive_sum(arr):\n",
    "    return sum(x for x in arr if x > 0)"
   ]
  },
  {
   "cell_type": "code",
   "execution_count": 28,
   "id": "6675c4e9",
   "metadata": {},
   "outputs": [
    {
     "data": {
      "text/plain": [
       "20"
      ]
     },
     "execution_count": 28,
     "metadata": {},
     "output_type": "execute_result"
    }
   ],
   "source": [
    "positive_sum(ex_array)"
   ]
  },
  {
   "cell_type": "code",
   "execution_count": 29,
   "id": "751caaaa",
   "metadata": {},
   "outputs": [
    {
     "data": {
      "text/plain": [
       "0"
      ]
     },
     "execution_count": 29,
     "metadata": {},
     "output_type": "execute_result"
    }
   ],
   "source": [
    "positive_sum(fake_arr)"
   ]
  }
 ],
 "metadata": {
  "kernelspec": {
   "display_name": "Python 3 (ipykernel)",
   "language": "python",
   "name": "python3"
  },
  "language_info": {
   "codemirror_mode": {
    "name": "ipython",
    "version": 3
   },
   "file_extension": ".py",
   "mimetype": "text/x-python",
   "name": "python",
   "nbconvert_exporter": "python",
   "pygments_lexer": "ipython3",
   "version": "3.9.7"
  }
 },
 "nbformat": 4,
 "nbformat_minor": 5
}
