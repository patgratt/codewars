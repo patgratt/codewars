{
 "cells": [
  {
   "cell_type": "code",
   "execution_count": 1,
   "id": "0fe61979",
   "metadata": {},
   "outputs": [],
   "source": [
    "ex_input = \"aaaaaaaaaaaaaaaabbbbbbbbbbbbbbbbbbmmmmmmmmmmmmmmmmmmmxyz\""
   ]
  },
  {
   "cell_type": "code",
   "execution_count": 25,
   "id": "ac01a67d",
   "metadata": {},
   "outputs": [],
   "source": [
    "# this is the first question where i'll import a package\n",
    "import string\n",
    "valid_list = list(string.ascii_lowercase)[0:13]"
   ]
  },
  {
   "cell_type": "code",
   "execution_count": 26,
   "id": "7691ffaa",
   "metadata": {},
   "outputs": [
    {
     "data": {
      "text/plain": [
       "['a', 'b', 'c', 'd', 'e', 'f', 'g', 'h', 'i', 'j', 'k', 'l', 'm']"
      ]
     },
     "execution_count": 26,
     "metadata": {},
     "output_type": "execute_result"
    }
   ],
   "source": [
    "valid_list"
   ]
  },
  {
   "cell_type": "code",
   "execution_count": 27,
   "id": "bc2f7aa5",
   "metadata": {},
   "outputs": [
    {
     "data": {
      "text/plain": [
       "56"
      ]
     },
     "execution_count": 27,
     "metadata": {},
     "output_type": "execute_result"
    }
   ],
   "source": [
    "len(ex_input)"
   ]
  },
  {
   "cell_type": "code",
   "execution_count": 28,
   "id": "77ae0a9d",
   "metadata": {},
   "outputs": [],
   "source": [
    "def printer_error(s):\n",
    "    bad_count = 0\n",
    "    dem = str(len(s))\n",
    "    for a in s:\n",
    "        if a not in valid_list:\n",
    "            bad_count += 1\n",
    "    return str(bad_count) + '/' + dem"
   ]
  },
  {
   "cell_type": "code",
   "execution_count": 29,
   "id": "50c46f7a",
   "metadata": {},
   "outputs": [
    {
     "data": {
      "text/plain": [
       "'3/56'"
      ]
     },
     "execution_count": 29,
     "metadata": {},
     "output_type": "execute_result"
    }
   ],
   "source": [
    "printer_error(ex_input)"
   ]
  },
  {
   "cell_type": "code",
   "execution_count": null,
   "id": "428e6572",
   "metadata": {},
   "outputs": [],
   "source": []
  }
 ],
 "metadata": {
  "kernelspec": {
   "display_name": "Python 3 (ipykernel)",
   "language": "python",
   "name": "python3"
  },
  "language_info": {
   "codemirror_mode": {
    "name": "ipython",
    "version": 3
   },
   "file_extension": ".py",
   "mimetype": "text/x-python",
   "name": "python",
   "nbconvert_exporter": "python",
   "pygments_lexer": "ipython3",
   "version": "3.9.7"
  }
 },
 "nbformat": 4,
 "nbformat_minor": 5
}
