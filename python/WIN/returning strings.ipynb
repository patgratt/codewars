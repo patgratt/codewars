{
 "cells": [
  {
   "cell_type": "code",
   "execution_count": 10,
   "id": "401c351a",
   "metadata": {},
   "outputs": [],
   "source": [
    "def greeting(g):\n",
    "    return \"Hello, {} how are you doing today?\".format(g)"
   ]
  },
  {
   "cell_type": "code",
   "execution_count": 12,
   "id": "19e01093",
   "metadata": {},
   "outputs": [
    {
     "data": {
      "text/plain": [
       "'Hello, ciara how are you doing today?'"
      ]
     },
     "execution_count": 12,
     "metadata": {},
     "output_type": "execute_result"
    }
   ],
   "source": [
    "greeting('ciara')"
   ]
  },
  {
   "cell_type": "code",
   "execution_count": null,
   "id": "e28fa2db",
   "metadata": {},
   "outputs": [],
   "source": [
    "# easy money first try success"
   ]
  }
 ],
 "metadata": {
  "kernelspec": {
   "display_name": "Python 3.9.12 ('base')",
   "language": "python",
   "name": "python3"
  },
  "language_info": {
   "codemirror_mode": {
    "name": "ipython",
    "version": 3
   },
   "file_extension": ".py",
   "mimetype": "text/x-python",
   "name": "python",
   "nbconvert_exporter": "python",
   "pygments_lexer": "ipython3",
   "version": "3.9.12"
  },
  "vscode": {
   "interpreter": {
    "hash": "40203b3ec892d21f304b904bd7441b754322a8b95cad2515f623282baa87ac4b"
   }
  }
 },
 "nbformat": 4,
 "nbformat_minor": 5
}
