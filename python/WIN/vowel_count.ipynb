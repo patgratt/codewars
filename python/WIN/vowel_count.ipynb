{
 "cells": [
  {
   "cell_type": "code",
   "execution_count": 2,
   "id": "7aaa9d84",
   "metadata": {},
   "outputs": [],
   "source": [
    "ex_input = 'hello world'"
   ]
  },
  {
   "cell_type": "code",
   "execution_count": 7,
   "id": "fd2e67d5",
   "metadata": {},
   "outputs": [],
   "source": [
    "def get_count(sentence):\n",
    "    vowel_list = ['a','e','i','o','u']\n",
    "    count = 0\n",
    "    for letter in sentence:\n",
    "        if letter in vowel_list:\n",
    "            count += 1\n",
    "    return count"
   ]
  },
  {
   "cell_type": "code",
   "execution_count": 8,
   "id": "447d4b91",
   "metadata": {},
   "outputs": [
    {
     "data": {
      "text/plain": [
       "3"
      ]
     },
     "execution_count": 8,
     "metadata": {},
     "output_type": "execute_result"
    }
   ],
   "source": [
    "get_count(ex_input)"
   ]
  },
  {
   "cell_type": "code",
   "execution_count": 9,
   "id": "0bc6fa99",
   "metadata": {},
   "outputs": [],
   "source": [
    "# hell yeaaaa"
   ]
  }
 ],
 "metadata": {
  "kernelspec": {
   "display_name": "Python 3 (ipykernel)",
   "language": "python",
   "name": "python3"
  },
  "language_info": {
   "codemirror_mode": {
    "name": "ipython",
    "version": 3
   },
   "file_extension": ".py",
   "mimetype": "text/x-python",
   "name": "python",
   "nbconvert_exporter": "python",
   "pygments_lexer": "ipython3",
   "version": "3.9.7"
  }
 },
 "nbformat": 4,
 "nbformat_minor": 5
}
