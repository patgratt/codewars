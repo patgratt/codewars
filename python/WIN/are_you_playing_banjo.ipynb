{
 "cells": [
  {
   "cell_type": "code",
   "execution_count": 3,
   "id": "934d04a1",
   "metadata": {},
   "outputs": [],
   "source": [
    "def are_you_playing_banjo(name):\n",
    "    if name[0] == 'R' or name[0] == 'r':\n",
    "        return name + ' plays banjo'\n",
    "    else:\n",
    "        return name + ' does not play banjo'"
   ]
  },
  {
   "cell_type": "code",
   "execution_count": 5,
   "id": "02ca3753",
   "metadata": {},
   "outputs": [
    {
     "data": {
      "text/plain": [
       "'john does not play banjo'"
      ]
     },
     "execution_count": 5,
     "metadata": {},
     "output_type": "execute_result"
    }
   ],
   "source": [
    "are_you_playing_banjo('john')"
   ]
  },
  {
   "cell_type": "code",
   "execution_count": 6,
   "id": "7ccce625",
   "metadata": {},
   "outputs": [
    {
     "data": {
      "text/plain": [
       "'ricky plays banjo'"
      ]
     },
     "execution_count": 6,
     "metadata": {},
     "output_type": "execute_result"
    }
   ],
   "source": [
    "are_you_playing_banjo('ricky')"
   ]
  },
  {
   "cell_type": "code",
   "execution_count": 7,
   "id": "486d6d15",
   "metadata": {},
   "outputs": [
    {
     "data": {
      "text/plain": [
       "'Ronny plays banjo'"
      ]
     },
     "execution_count": 7,
     "metadata": {},
     "output_type": "execute_result"
    }
   ],
   "source": [
    "are_you_playing_banjo('Ronny')"
   ]
  },
  {
   "cell_type": "code",
   "execution_count": null,
   "id": "00a85192",
   "metadata": {},
   "outputs": [],
   "source": [
    "# easy money"
   ]
  }
 ],
 "metadata": {
  "kernelspec": {
   "display_name": "Python 3 (ipykernel)",
   "language": "python",
   "name": "python3"
  },
  "language_info": {
   "codemirror_mode": {
    "name": "ipython",
    "version": 3
   },
   "file_extension": ".py",
   "mimetype": "text/x-python",
   "name": "python",
   "nbconvert_exporter": "python",
   "pygments_lexer": "ipython3",
   "version": "3.9.7"
  }
 },
 "nbformat": 4,
 "nbformat_minor": 5
}
