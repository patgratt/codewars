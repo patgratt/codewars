{
 "cells": [
  {
   "cell_type": "code",
   "execution_count": 53,
   "id": "0ffd70d5",
   "metadata": {},
   "outputs": [],
   "source": [
    "ex = 5"
   ]
  },
  {
   "cell_type": "code",
   "execution_count": 58,
   "id": "03238c47",
   "metadata": {},
   "outputs": [],
   "source": [
    "def reverse_seq(n):\n",
    "    g = []\n",
    "    for a in range(1,n+1):\n",
    "        g.append(a)\n",
    "    result = g[::-1]\n",
    "    return result"
   ]
  },
  {
   "cell_type": "code",
   "execution_count": 59,
   "id": "a1073eec",
   "metadata": {},
   "outputs": [
    {
     "data": {
      "text/plain": [
       "[5, 4, 3, 2, 1]"
      ]
     },
     "execution_count": 59,
     "metadata": {},
     "output_type": "execute_result"
    }
   ],
   "source": [
    "reverse_seq(ex)"
   ]
  },
  {
   "cell_type": "code",
   "execution_count": 60,
   "id": "2f3e3c50",
   "metadata": {},
   "outputs": [
    {
     "data": {
      "text/plain": [
       "[13, 12, 11, 10, 9, 8, 7, 6, 5, 4, 3, 2, 1]"
      ]
     },
     "execution_count": 60,
     "metadata": {},
     "output_type": "execute_result"
    }
   ],
   "source": [
    "reverse_seq(13)"
   ]
  },
  {
   "cell_type": "code",
   "execution_count": null,
   "id": "1a399b4d",
   "metadata": {},
   "outputs": [],
   "source": []
  }
 ],
 "metadata": {
  "kernelspec": {
   "display_name": "Python 3 (ipykernel)",
   "language": "python",
   "name": "python3"
  },
  "language_info": {
   "codemirror_mode": {
    "name": "ipython",
    "version": 3
   },
   "file_extension": ".py",
   "mimetype": "text/x-python",
   "name": "python",
   "nbconvert_exporter": "python",
   "pygments_lexer": "ipython3",
   "version": "3.9.7"
  }
 },
 "nbformat": 4,
 "nbformat_minor": 5
}
