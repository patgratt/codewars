{
 "cells": [
  {
   "cell_type": "code",
   "execution_count": 10,
   "id": "bd35a87f",
   "metadata": {},
   "outputs": [],
   "source": [
    "ex_results = [\"3:1\", \"2:2\", \"0:1\"]"
   ]
  },
  {
   "cell_type": "code",
   "execution_count": 3,
   "id": "068cd875",
   "metadata": {},
   "outputs": [],
   "source": [
    "def points(games):\n",
    "    g[0]"
   ]
  },
  {
   "cell_type": "code",
   "execution_count": 5,
   "id": "e4aed3f6",
   "metadata": {},
   "outputs": [
    {
     "data": {
      "text/plain": [
       "'3'"
      ]
     },
     "execution_count": 5,
     "metadata": {},
     "output_type": "execute_result"
    }
   ],
   "source": [
    "ex_results[0][0]"
   ]
  },
  {
   "cell_type": "code",
   "execution_count": 12,
   "id": "1968694a",
   "metadata": {},
   "outputs": [
    {
     "data": {
      "text/plain": [
       "'1'"
      ]
     },
     "execution_count": 12,
     "metadata": {},
     "output_type": "execute_result"
    }
   ],
   "source": [
    "ex_results[0][2]"
   ]
  },
  {
   "cell_type": "code",
   "execution_count": 16,
   "id": "184b9fbe",
   "metadata": {},
   "outputs": [],
   "source": [
    "x = list(i[0] for i in ex_results)"
   ]
  },
  {
   "cell_type": "code",
   "execution_count": 17,
   "id": "b8481e9b",
   "metadata": {},
   "outputs": [
    {
     "data": {
      "text/plain": [
       "['3', '2', '0']"
      ]
     },
     "execution_count": 17,
     "metadata": {},
     "output_type": "execute_result"
    }
   ],
   "source": [
    "x"
   ]
  },
  {
   "cell_type": "code",
   "execution_count": 18,
   "id": "ab97a26f",
   "metadata": {},
   "outputs": [],
   "source": [
    "total = 0"
   ]
  },
  {
   "cell_type": "code",
   "execution_count": 19,
   "id": "d4a9e279",
   "metadata": {},
   "outputs": [],
   "source": [
    "# fuck it looking at solution im close but not sure"
   ]
  },
  {
   "cell_type": "code",
   "execution_count": 21,
   "id": "b819f23b",
   "metadata": {},
   "outputs": [],
   "source": [
    "ex_results = [\"3:1\", \"2:2\", \"0:1\"]"
   ]
  },
  {
   "cell_type": "code",
   "execution_count": 29,
   "id": "59053fd8",
   "metadata": {},
   "outputs": [],
   "source": [
    "def points(games):\n",
    "    total = 0\n",
    "    for score in games:\n",
    "        match = score.split(':')\n",
    "        if match[0] > match[1]:\n",
    "            total += 3\n",
    "        elif match[0] == match[1]:\n",
    "            total += 1\n",
    "    return total    "
   ]
  },
  {
   "cell_type": "code",
   "execution_count": 30,
   "id": "9eaf1bdb",
   "metadata": {},
   "outputs": [
    {
     "data": {
      "text/plain": [
       "4"
      ]
     },
     "execution_count": 30,
     "metadata": {},
     "output_type": "execute_result"
    }
   ],
   "source": [
    "points(ex_results)"
   ]
  }
 ],
 "metadata": {
  "kernelspec": {
   "display_name": "Python 3 (ipykernel)",
   "language": "python",
   "name": "python3"
  },
  "language_info": {
   "codemirror_mode": {
    "name": "ipython",
    "version": 3
   },
   "file_extension": ".py",
   "mimetype": "text/x-python",
   "name": "python",
   "nbconvert_exporter": "python",
   "pygments_lexer": "ipython3",
   "version": "3.9.7"
  }
 },
 "nbformat": 4,
 "nbformat_minor": 5
}
