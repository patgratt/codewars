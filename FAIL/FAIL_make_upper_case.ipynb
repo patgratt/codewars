{
 "cells": [
  {
   "cell_type": "code",
   "execution_count": 6,
   "id": "288d89d0",
   "metadata": {},
   "outputs": [],
   "source": [
    "# i have no idea how to do this\n",
    "def make_upper_case(s):\n",
    "    return s.upper()\n",
    "# so fuckin easy just a simple method"
   ]
  },
  {
   "cell_type": "code",
   "execution_count": 7,
   "id": "e75261b0",
   "metadata": {},
   "outputs": [],
   "source": [
    "ex = 'hello world whats going on'"
   ]
  },
  {
   "cell_type": "code",
   "execution_count": 8,
   "id": "ab1a904f",
   "metadata": {},
   "outputs": [
    {
     "data": {
      "text/plain": [
       "'HELLO WORLD WHATS GOING ON'"
      ]
     },
     "execution_count": 8,
     "metadata": {},
     "output_type": "execute_result"
    }
   ],
   "source": [
    "make_upper_case(ex)"
   ]
  },
  {
   "cell_type": "code",
   "execution_count": 9,
   "id": "78febe6d",
   "metadata": {},
   "outputs": [],
   "source": [
    "# ok interesting it goes full caps for some reason I thought it was just the first letters"
   ]
  },
  {
   "cell_type": "code",
   "execution_count": null,
   "id": "183dc53f",
   "metadata": {},
   "outputs": [],
   "source": []
  }
 ],
 "metadata": {
  "kernelspec": {
   "display_name": "Python 3 (ipykernel)",
   "language": "python",
   "name": "python3"
  },
  "language_info": {
   "codemirror_mode": {
    "name": "ipython",
    "version": 3
   },
   "file_extension": ".py",
   "mimetype": "text/x-python",
   "name": "python",
   "nbconvert_exporter": "python",
   "pygments_lexer": "ipython3",
   "version": "3.9.7"
  }
 },
 "nbformat": 4,
 "nbformat_minor": 5
}
